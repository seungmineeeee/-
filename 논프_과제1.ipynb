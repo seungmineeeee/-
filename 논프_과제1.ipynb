{
  "nbformat": 4,
  "nbformat_minor": 0,
  "metadata": {
    "colab": {
      "provenance": [],
      "authorship_tag": "ABX9TyOiM6YVfw8IHeOa1rN8GbPy",
      "include_colab_link": true
    },
    "kernelspec": {
      "name": "python3",
      "display_name": "Python 3"
    },
    "language_info": {
      "name": "python"
    }
  },
  "cells": [
    {
      "cell_type": "markdown",
      "metadata": {
        "id": "view-in-github",
        "colab_type": "text"
      },
      "source": [
        "<a href=\"https://colab.research.google.com/github/seungmineeeee/hi/blob/main/%EB%85%BC%ED%94%84_%EA%B3%BC%EC%A0%9C1.ipynb\" target=\"_parent\"><img src=\"https://colab.research.google.com/assets/colab-badge.svg\" alt=\"Open In Colab\"/></a>"
      ]
    },
    {
      "cell_type": "code",
      "execution_count": null,
      "metadata": {
        "colab": {
          "base_uri": "https://localhost:8080/"
        },
        "id": "glT06ooVpOcz",
        "outputId": "87fdbefd-9c6e-4b38-86d0-48c4e0a9a500"
      },
      "outputs": [
        {
          "output_type": "stream",
          "name": "stdout",
          "text": [
            "3\n"
          ]
        }
      ],
      "source": [
        "## 202102504 이승민\n",
        "a=1\n",
        "b=2\n",
        "print(a+b)"
      ]
    },
    {
      "cell_type": "code",
      "source": [
        "n=int(input(\"숫자를 입력하시오:\"))\n",
        "\n",
        "if n<30:\n",
        "  for a in range(1,n+1):\n",
        "    for b in range(1,a+1):\n",
        "      print(b, end='')\n",
        "    print()\n",
        "\n",
        "else:\n",
        "  print(\"숫자가 너무 많습니다.\")"
      ],
      "metadata": {
        "colab": {
          "base_uri": "https://localhost:8080/"
        },
        "id": "nmlF6uok5spn",
        "outputId": "638f0608-f219-4e20-8034-d920baf5c9e9"
      },
      "execution_count": null,
      "outputs": [
        {
          "output_type": "stream",
          "name": "stdout",
          "text": [
            "숫자를 입력하시오:30\n",
            "숫자가 너무 많습니다.\n"
          ]
        }
      ]
    },
    {
      "cell_type": "code",
      "source": [
        "n=input(\"30 미만의 정수를 입력하시오:\")\n",
        "\n",
        "if not n.isdecimal():\n",
        "   print(\"정수로 입력하세요.\")\n",
        "\n",
        "else:\n",
        "  n=int(n)\n",
        "  if n<30:\n",
        "    for a in range(1,n+1):\n",
        "      for b in range(1,a+1):\n",
        "        print(b, end='')\n",
        "      print()\n",
        "  else:\n",
        "    print(\"숫자가 너무 많습니다.\")"
      ],
      "metadata": {
        "colab": {
          "base_uri": "https://localhost:8080/"
        },
        "id": "0l0dkiYT7bkr",
        "outputId": "ebfd5f02-6296-4880-9dde-1c9458d8be36"
      },
      "execution_count": null,
      "outputs": [
        {
          "output_type": "stream",
          "name": "stdout",
          "text": [
            "30 미만의 정수를 입력하시오:52\n",
            "숫자가 너무 많습니다.\n"
          ]
        }
      ]
    },
    {
      "cell_type": "code",
      "source": [],
      "metadata": {
        "id": "7iAYzMbJrrwI"
      },
      "execution_count": null,
      "outputs": []
    }
  ]
}